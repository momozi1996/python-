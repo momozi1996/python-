{
 "cells": [
  {
   "cell_type": "markdown",
   "metadata": {},
   "source": [
    "## 循环结构\n",
    "* while \n",
    "* for"
   ]
  },
  {
   "cell_type": "markdown",
   "metadata": {},
   "source": [
    "### while "
   ]
  },
  {
   "cell_type": "code",
   "execution_count": 1,
   "metadata": {},
   "outputs": [
    {
     "name": "stdout",
     "output_type": "stream",
     "text": [
      "0\n",
      "1\n",
      "2\n",
      "3\n",
      "4\n",
      "5\n",
      "6\n",
      "7\n",
      "8\n",
      "9\n"
     ]
    }
   ],
   "source": [
    "tang=0\n",
    "while tang<10:\n",
    "    print(tang)\n",
    "    tang+=1"
   ]
  },
  {
   "cell_type": "code",
   "execution_count": 4,
   "metadata": {},
   "outputs": [
    {
     "name": "stdout",
     "output_type": "stream",
     "text": [
      "di\n",
      "yu\n",
      "tang\n"
     ]
    }
   ],
   "source": [
    "tangs=set(['tang','yu','di'])\n",
    "while tangs:\n",
    "    tang=tangs.pop()\n",
    "    print(tang)"
   ]
  },
  {
   "cell_type": "markdown",
   "metadata": {},
   "source": [
    "### for : 集合中进行遍历"
   ]
  },
  {
   "cell_type": "code",
   "execution_count": 5,
   "metadata": {},
   "outputs": [
    {
     "name": "stdout",
     "output_type": "stream",
     "text": [
      "di\n",
      "yu\n",
      "tang\n"
     ]
    }
   ],
   "source": [
    "tangs=set(['tang','yu','di'])\n",
    "for name in tangs:  #for 元素 in 集合\n",
    "    print(name)"
   ]
  },
  {
   "cell_type": "code",
   "execution_count": 6,
   "metadata": {},
   "outputs": [
    {
     "name": "stdout",
     "output_type": "stream",
     "text": [
      "0\n",
      "1\n",
      "2\n",
      "3\n",
      "4\n",
      "5\n",
      "6\n",
      "7\n",
      "8\n",
      "9\n"
     ]
    }
   ],
   "source": [
    "tang=100\n",
    "for i in range(10):\n",
    "    print(i)"
   ]
  },
  {
   "cell_type": "code",
   "execution_count": 8,
   "metadata": {},
   "outputs": [
    {
     "name": "stdout",
     "output_type": "stream",
     "text": [
      "123\n",
      "4\n",
      "5\n"
     ]
    }
   ],
   "source": [
    "tang=[123,4,5,6,456,567,4567]\n",
    "for i in range(3):\n",
    "    print(tang[i])"
   ]
  },
  {
   "cell_type": "code",
   "execution_count": 9,
   "metadata": {},
   "outputs": [
    {
     "name": "stdout",
     "output_type": "stream",
     "text": [
      "123\n",
      "4\n",
      "5\n",
      "6\n",
      "456\n",
      "567\n",
      "4567\n",
      "3\n",
      "4\n",
      "5\n",
      "6\n",
      "7\n",
      "8\n",
      "9\n"
     ]
    }
   ],
   "source": [
    "tang=[123,4,5,6,456,567,4567,3,4,5,6,7,8,9]\n",
    "for i in range(len(tang)):\n",
    "    print(tang[i])"
   ]
  },
  {
   "cell_type": "code",
   "execution_count": 12,
   "metadata": {},
   "outputs": [
    {
     "name": "stdout",
     "output_type": "stream",
     "text": [
      "10\n",
      "10\n",
      "12\n",
      "12\n",
      "14\n",
      "14\n"
     ]
    }
   ],
   "source": [
    "tang=[10,11,12,13,14,15]\n",
    "for i in tang:\n",
    "    if i%2==0:\n",
    "        print(i)\n",
    "    else:\n",
    "        continue  #continue 会跳出，不执行下一句，执行下一次循环\n",
    "    print(i)"
   ]
  },
  {
   "cell_type": "code",
   "execution_count": 13,
   "metadata": {},
   "outputs": [
    {
     "name": "stdout",
     "output_type": "stream",
     "text": [
      "10\n",
      "10\n"
     ]
    }
   ],
   "source": [
    "tang=[10,11,12,13,14,15]\n",
    "for i in tang:\n",
    "    if i%2==0:\n",
    "        print(i)\n",
    "    else:\n",
    "        break    #break 会跳出全部循环\n",
    "    print(i)"
   ]
  },
  {
   "cell_type": "code",
   "execution_count": null,
   "metadata": {},
   "outputs": [],
   "source": []
  },
  {
   "cell_type": "code",
   "execution_count": null,
   "metadata": {},
   "outputs": [],
   "source": []
  }
 ],
 "metadata": {
  "kernelspec": {
   "display_name": "Python 3",
   "language": "python",
   "name": "python3"
  },
  "language_info": {
   "codemirror_mode": {
    "name": "ipython",
    "version": 3
   },
   "file_extension": ".py",
   "mimetype": "text/x-python",
   "name": "python",
   "nbconvert_exporter": "python",
   "pygments_lexer": "ipython3",
   "version": "3.8.3"
  }
 },
 "nbformat": 4,
 "nbformat_minor": 4
}
